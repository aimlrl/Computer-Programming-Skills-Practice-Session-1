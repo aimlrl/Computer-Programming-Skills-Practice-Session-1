{
 "cells": [
  {
   "cell_type": "code",
   "execution_count": 36,
   "metadata": {},
   "outputs": [],
   "source": [
    "l = [45,31,39,61,77,71,88,93,54,76,123,567,94,90,36]"
   ]
  },
  {
   "cell_type": "code",
   "execution_count": 37,
   "metadata": {},
   "outputs": [
    {
     "name": "stdout",
     "output_type": "stream",
     "text": [
      "The number 45 is not prime\n",
      "The number 31 is prime\n",
      "The number 39 is not prime\n",
      "The number 61 is prime\n",
      "The number 77 is not prime\n",
      "The number 71 is prime\n",
      "The number 88 is not prime\n",
      "The number 93 is not prime\n",
      "The number 54 is not prime\n",
      "The number 76 is not prime\n",
      "The number 123 is not prime\n",
      "The number 567 is not prime\n",
      "The number 94 is not prime\n",
      "The number 90 is not prime\n",
      "The number 36 is not prime\n"
     ]
    }
   ],
   "source": [
    "for i in range(0,15):\n",
    "\n",
    "    for divisor in range(2,l[i]):\n",
    "\n",
    "        if l[i] % divisor == 0:\n",
    "\n",
    "            print(\"The number {} is not prime\".format(l[i]))\n",
    "\n",
    "            break\n",
    "\n",
    "    if divisor == (l[i] - 1):\n",
    "\n",
    "        print(\"The number {} is prime\".format(l[i]))"
   ]
  },
  {
   "cell_type": "code",
   "execution_count": null,
   "metadata": {},
   "outputs": [],
   "source": []
  }
 ],
 "metadata": {
  "kernelspec": {
   "display_name": "Python 3",
   "language": "python",
   "name": "python3"
  },
  "language_info": {
   "codemirror_mode": {
    "name": "ipython",
    "version": 3
   },
   "file_extension": ".py",
   "mimetype": "text/x-python",
   "name": "python",
   "nbconvert_exporter": "python",
   "pygments_lexer": "ipython3",
   "version": "3.7.3"
  }
 },
 "nbformat": 4,
 "nbformat_minor": 2
}
